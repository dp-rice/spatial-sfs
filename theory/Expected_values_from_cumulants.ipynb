{
 "cells": [
  {
   "cell_type": "markdown",
   "metadata": {},
   "source": [
    "**Expected allele frequency & heterozygosity from cumulants**\n",
    "\n",
    "First cumulant $\\kappa_1$ is the mean, second cumulant $\\kappa_2$ is the variance.\n",
    "\n",
    "Need to undo earlier scaling on these values.\n",
    "\n",
    "Let $\\mu_x$ be the expected allele frequency. Then,\n",
    "$$\\mu_x=\\frac{(D/s)^{d/2}\\mathcal{N}\\mu}{s(D/s)^{d/2}\\mathcal{N}}\\kappa_1=\\frac{\\mu}{s}$$\n",
    "since $\\kappa_1$ is always 1.\n",
    "\n",
    "Let $H_E$ be the expected heterozygosity. This is given by 2 time the variance of $x$, and the variance of $x$ is given by $\\kappa_2$. So, need to un-scale $\\kappa_2$. \n",
    "\n",
    "$$H_E=2\\frac{(D/s)^{d/2}\\mathcal{N}\\mu}{s^2(D/s)^d\\mathcal{N}}\\kappa_2=\\frac{2\\mu}{s^2\\ell_c^d}\\kappa_2$$"
   ]
  },
  {
   "cell_type": "code",
   "execution_count": 15,
   "metadata": {},
   "outputs": [],
   "source": [
    "import pandas as pd\n",
    "import numpy as np\n",
    "import matplotlib.pyplot as plt\n",
    "import seaborn as sns"
   ]
  },
  {
   "cell_type": "code",
   "execution_count": 5,
   "metadata": {},
   "outputs": [
    {
     "data": {
      "text/html": [
       "<div>\n",
       "<style scoped>\n",
       "    .dataframe tbody tr th:only-of-type {\n",
       "        vertical-align: middle;\n",
       "    }\n",
       "\n",
       "    .dataframe tbody tr th {\n",
       "        vertical-align: top;\n",
       "    }\n",
       "\n",
       "    .dataframe thead th {\n",
       "        text-align: right;\n",
       "    }\n",
       "</style>\n",
       "<table border=\"1\" class=\"dataframe\">\n",
       "  <thead>\n",
       "    <tr style=\"text-align: right;\">\n",
       "      <th></th>\n",
       "      <th>sigma</th>\n",
       "      <th>u2_GQ</th>\n",
       "      <th>u3_GQ</th>\n",
       "      <th>u4_GQ</th>\n",
       "    </tr>\n",
       "  </thead>\n",
       "  <tbody>\n",
       "    <tr>\n",
       "      <th>0</th>\n",
       "      <td>0.01000</td>\n",
       "      <td>0.249552</td>\n",
       "      <td>0.071945</td>\n",
       "      <td>0.022342</td>\n",
       "    </tr>\n",
       "    <tr>\n",
       "      <th>1</th>\n",
       "      <td>0.11009</td>\n",
       "      <td>0.245133</td>\n",
       "      <td>0.069751</td>\n",
       "      <td>0.021399</td>\n",
       "    </tr>\n",
       "    <tr>\n",
       "      <th>2</th>\n",
       "      <td>0.21018</td>\n",
       "      <td>0.240836</td>\n",
       "      <td>0.067642</td>\n",
       "      <td>0.020503</td>\n",
       "    </tr>\n",
       "    <tr>\n",
       "      <th>3</th>\n",
       "      <td>0.31027</td>\n",
       "      <td>0.236658</td>\n",
       "      <td>0.065615</td>\n",
       "      <td>0.019651</td>\n",
       "    </tr>\n",
       "    <tr>\n",
       "      <th>4</th>\n",
       "      <td>0.41036</td>\n",
       "      <td>0.232592</td>\n",
       "      <td>0.063666</td>\n",
       "      <td>0.018842</td>\n",
       "    </tr>\n",
       "    <tr>\n",
       "      <th>...</th>\n",
       "      <td>...</td>\n",
       "      <td>...</td>\n",
       "      <td>...</td>\n",
       "      <td>...</td>\n",
       "    </tr>\n",
       "    <tr>\n",
       "      <th>995</th>\n",
       "      <td>99.59964</td>\n",
       "      <td>0.008880</td>\n",
       "      <td>0.000121</td>\n",
       "      <td>0.000002</td>\n",
       "    </tr>\n",
       "    <tr>\n",
       "      <th>996</th>\n",
       "      <td>99.69973</td>\n",
       "      <td>0.008871</td>\n",
       "      <td>0.000121</td>\n",
       "      <td>0.000002</td>\n",
       "    </tr>\n",
       "    <tr>\n",
       "      <th>997</th>\n",
       "      <td>99.79982</td>\n",
       "      <td>0.008863</td>\n",
       "      <td>0.000121</td>\n",
       "      <td>0.000002</td>\n",
       "    </tr>\n",
       "    <tr>\n",
       "      <th>998</th>\n",
       "      <td>99.89991</td>\n",
       "      <td>0.008854</td>\n",
       "      <td>0.000121</td>\n",
       "      <td>0.000002</td>\n",
       "    </tr>\n",
       "    <tr>\n",
       "      <th>999</th>\n",
       "      <td>100.00000</td>\n",
       "      <td>0.008845</td>\n",
       "      <td>0.000120</td>\n",
       "      <td>0.000002</td>\n",
       "    </tr>\n",
       "  </tbody>\n",
       "</table>\n",
       "<p>1000 rows × 4 columns</p>\n",
       "</div>"
      ],
      "text/plain": [
       "         sigma     u2_GQ     u3_GQ     u4_GQ\n",
       "0      0.01000  0.249552  0.071945  0.022342\n",
       "1      0.11009  0.245133  0.069751  0.021399\n",
       "2      0.21018  0.240836  0.067642  0.020503\n",
       "3      0.31027  0.236658  0.065615  0.019651\n",
       "4      0.41036  0.232592  0.063666  0.018842\n",
       "..         ...       ...       ...       ...\n",
       "995   99.59964  0.008880  0.000121  0.000002\n",
       "996   99.69973  0.008871  0.000121  0.000002\n",
       "997   99.79982  0.008863  0.000121  0.000002\n",
       "998   99.89991  0.008854  0.000121  0.000002\n",
       "999  100.00000  0.008845  0.000120  0.000002\n",
       "\n",
       "[1000 rows x 4 columns]"
      ]
     },
     "execution_count": 5,
     "metadata": {},
     "output_type": "execute_result"
    }
   ],
   "source": [
    "# read in cumulants\n",
    "data = pd.read_csv(\"files_v1_20221007/spatial_integrals_dim1.csv\") \n",
    "data"
   ]
  },
  {
   "cell_type": "code",
   "execution_count": 16,
   "metadata": {},
   "outputs": [
    {
     "data": {
      "image/png": "[encoded data removed]",
      "text/plain": [
       "<Figure size 432x288 with 1 Axes>"
      ]
     },
     "metadata": {
      "needs_background": "light"
     },
     "output_type": "display_data"
    }
   ],
   "source": [
    "def calc_H_cumulants(kappa_list,s,mu=1e-8,D=1,d=1):\n",
    "    scale_term = (2*mu)/(s*s*np.sqrt(D/s))\n",
    "    H_list = [scale_term*k for k in kappa_list]\n",
    "    return(H_list)\n",
    "    \n",
    "sigma_list = data['sigma'].tolist()\n",
    "# H_list = calc_H_cumulants(data['u2_GQ'].tolist(),0.1)\n",
    "\n",
    "colors = sns.color_palette(\"colorblind\",4)\n",
    "\n",
    "fig, ax = plt.subplots()\n",
    "ax.plot(sigma_list,calc_H_cumulants(data['u2_GQ'].tolist(),1),color=colors[0])\n",
    "ax.plot(sigma_list,calc_H_cumulants(data['u2_GQ'].tolist(),0.1),color=colors[1])\n",
    "ax.plot(sigma_list,calc_H_cumulants(data['u2_GQ'].tolist(),0.05),color=colors[2])\n",
    "ax.plot(sigma_list,calc_H_cumulants(data['u2_GQ'].tolist(),0.01),color=colors[3])\n",
    "ax.legend(labels=['1','0.1','0.05','0.01'],title=\"s\")\n",
    "plt.xscale(\"log\")\n",
    "plt.yscale(\"log\")\n",
    "plt.show()"
   ]
  },
  {
   "cell_type": "code",
   "execution_count": null,
   "metadata": {},
   "outputs": [],
   "source": []
  }
 ],
 "metadata": {
  "kernelspec": {
   "display_name": "Python 3",
   "language": "python",
   "name": "python3"
  },
  "language_info": {
   "codemirror_mode": {
    "name": "ipython",
    "version": 3
   },
   "file_extension": ".py",
   "mimetype": "text/x-python",
   "name": "python",
   "nbconvert_exporter": "python",
   "pygments_lexer": "ipython3",
   "version": "3.9.2"
  }
 },
 "nbformat": 4,
 "nbformat_minor": 2
}
